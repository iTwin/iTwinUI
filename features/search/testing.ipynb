{
 "cells": [
  {
   "cell_type": "code",
   "execution_count": 1,
   "id": "4abb93fe",
   "metadata": {},
   "outputs": [],
   "source": [
    "import os\n",
    "import openai\n",
    "import requests\n",
    "import json\n",
    "import sseclient"
   ]
  },
  {
   "cell_type": "code",
   "execution_count": 2,
   "id": "fce433bd",
   "metadata": {},
   "outputs": [],
   "source": [
    "# openai.api_key = os.getenv(\"OPENAI_API_KEY\")\n",
    "# openai.Completion.create(\n",
    "#   model=\"text-davinci-003\",\n",
    "#   prompt=\"Say this is a test\",\n",
    "#   max_tokens=7,\n",
    "#   temperature=0\n",
    "# )"
   ]
  },
  {
   "cell_type": "code",
   "execution_count": 3,
   "id": "9bfd32cf",
   "metadata": {},
   "outputs": [],
   "source": [
    "# def send_request(prompt):\n",
    "#     openai.api_key = os.getenv(\"OPENAI_API_KEY\")\n",
    "#     response = openai.Completion.create(\n",
    "#       model=\"text-davinci-003\",\n",
    "#       prompt=prompt,\n",
    "#       temperature=0\n",
    "#     )\n",
    "    \n",
    "#     return response"
   ]
  },
  {
   "cell_type": "code",
   "execution_count": 4,
   "id": "b8e4048b",
   "metadata": {},
   "outputs": [],
   "source": [
    "# response = send_request(\"Say this is a test\")\n",
    "# response"
   ]
  },
  {
   "cell_type": "code",
   "execution_count": 5,
   "id": "2ab23ade",
   "metadata": {},
   "outputs": [],
   "source": [
    "# response.choices"
   ]
  },
  {
   "cell_type": "code",
   "execution_count": 6,
   "id": "9296217d",
   "metadata": {},
   "outputs": [
    {
     "data": {
      "text/plain": [
       "'You are a enthusiastic iTwinUI representative who loves helping users. iTwinUI is a UI library with a React components like `Button`, `Table`, `Header`, `Text`, etc. where all components follow the strict UX guidelines set by iTwinUI. Given the \"Most relevant chunks\" from the iTwinUI documentation website, give an answer in markdown (code and hierarchical bullet points, whenever possible) to the \"User query\". You should not use any information outside of \"Most relevant chunks\". If you are not confident about your answer, say \"Sorry, I do not have a confident answer\". NEVER guess an answer or inject your knowledge.\\n\\n\"User query\":\\nWhere should I place an Alert component? Like from a UX perspective \\n\\n\"Most relevant chunks\":\\n```json\\n[\\n  {\\n    \"header\": [\"Alert\", \"Placement\"],\\n    \"content\": \"The alert notification can display in two different ways:\"\\n  },\\n  {\\n    \"header\": [\"Alert\", \"Placement\", \"Inline\"],\\n    \"content\": \"An inline alert appears embedded within the copy of the site as a block element. This means that when the user scrolls, the alert scrolls as well.\\n\\nInline alerts can optionally be dismissible. Once the alert is dismissed, the content below it will shift upwards due to the alert no longer consuming space.\"\\n  },\\n  {\\n    \"header\": [\"Alert\", \"Placement\", \"Sticky\"],\\n    \"content\": \"A sticky alert appears full width stuck at the top of the window frame. That means if the user scrolls, the alert stays at the top of the frame and as the content scrolls underneath it. A sticky alert must always be dismissible. The alert appears above all other UI elements except for toast notifications and modals.\\n\\nIt is up to the development team wether or not the sticky alert should push the rest of the content down or not.\"\\n  },\\n]\\n```'"
      ]
     },
     "execution_count": 6,
     "metadata": {},
     "output_type": "execute_result"
    }
   ],
   "source": [
    "real_prompt = \"\"\"\n",
    "You are an enthusiastic iTwinUI representative who loves helping users. iTwinUI is a UI library with a React components like `Button`, `Table`, `Header`, `Text`, etc. where all components follow the strict UX guidelines set by iTwinUI. Given the \"Most relevant chunks\" from the iTwinUI documentation website, give an answer in markdown (code and hierarchical bullet points, whenever possible) to the \"User query\". You should not use any information outside of \"Most relevant chunks\". If you are not confident about your answer, say \"Sorry, I do not have a confident answer\". NEVER guess an answer or inject your knowledge.\n",
    "\n",
    "\"User query\":\n",
    "Where should I place an Alert component? Like from a UX perspective \n",
    "\n",
    "\"Most relevant chunks\":\n",
    "```json\n",
    "[\n",
    "  {\n",
    "    \"header\": [\"Alert\", \"Placement\"],\n",
    "    \"content\": \"The alert notification can display in two different ways:\"\n",
    "  },\n",
    "  {\n",
    "    \"header\": [\"Alert\", \"Placement\", \"Inline\"],\n",
    "    \"content\": \"An inline alert appears embedded within the copy of the site as a block element. This means that when the user scrolls, the alert scrolls as well.\\n\\nInline alerts can optionally be dismissible. Once the alert is dismissed, the content below it will shift upwards due to the alert no longer consuming space.\"\n",
    "  },\n",
    "  {\n",
    "    \"header\": [\"Alert\", \"Placement\", \"Sticky\"],\n",
    "    \"content\": \"A sticky alert appears full width stuck at the top of the window frame. That means if the user scrolls, the alert stays at the top of the frame and as the content scrolls underneath it. A sticky alert must always be dismissible. The alert appears above all other UI elements except for toast notifications and modals.\\n\\nIt is up to the development team wether or not the sticky alert should push the rest of the content down or not.\"\n",
    "  },\n",
    "]\n",
    "```\n",
    "\"\"\".strip()\n",
    "\n",
    "real_prompt"
   ]
  },
  {
   "cell_type": "code",
   "execution_count": 7,
   "id": "c4c53d42",
   "metadata": {},
   "outputs": [],
   "source": [
    "# real_prompt_response = send_request(real_prompt)"
   ]
  },
  {
   "cell_type": "code",
   "execution_count": 29,
   "id": "bd3317b8",
   "metadata": {},
   "outputs": [],
   "source": [
    "def generate_streaming_text(prompt, model=\"text-ada-001\", max_tokens=30):\n",
    "    headers = {\n",
    "        \"Content-Type\": \"application/json\",\n",
    "        \"Accept\": \"text/event-stream\",\n",
    "        \"Authorization\": f\"Bearer {openai.api_key}\"\n",
    "    }\n",
    "    data = {\n",
    "        \"prompt\": prompt,\n",
    "        \"model\": model,\n",
    "        \"max_tokens\": max_tokens,\n",
    "        \"temperature\": 0.0,\n",
    "        \"stream\":True\n",
    "    }\n",
    "    response = requests.post(\"https://api.openai.com/v1/completions\", headers=headers, data=json.dumps(data))\n",
    "    client = sseclient.SSEClient(response)\n",
    "    for event in client.events():\n",
    "        # print(\"HERE\")\n",
    "        if event.data != \"[DONE]\":\n",
    "            response_json = json.loads(event.data)\n",
    "            # print(response_json[\"choices\"][0][\"text\"], end=\"\", flush=True)\n",
    "\n",
    "            if \"choices\" in response_json:\n",
    "                # print(response_json[\"choices\"][0][\"text\"], end=\"\", flush=True)\n",
    "                yield response_json[\"choices\"][0][\"text\"]\n",
    "\n",
    "        # if event.event == \"data\":\n",
    "        #     response_json = json.loads(event.data)\n",
    "        #     if \"choices\" in response_json:\n",
    "        #         return response_json[\"choices\"][0][\"text\"]\n",
    "        #     else:\n",
    "        #         return response_json\n",
    "        \n",
    "    # response_json = response.json()\n",
    "    # return response_json"
   ]
  },
  {
   "cell_type": "code",
   "execution_count": 18,
   "id": "d2447ca5",
   "metadata": {},
   "outputs": [
    {
     "name": "stdout",
     "output_type": "stream",
     "text": [
      "\n",
      "\n",
      "The alert notification can display in two different ways:\n",
      "\n",
      "-Sticky alerts: The alert appears full width stuck at the top of the window frame and as the content scrolls underneath it.\n",
      "-Ongoing alerts: The alert appears embedded within the site as a block element and when the user scrolls, the alert scrolls as well.\n",
      "\n",
      "-Sticky alerts should be:\n",
      "\n",
      "-Dismissible: The alert appears full width stuck at the top of the window frame and as the content scrolls underneath it. When the user scrolls, the alert dismisses itself.\n",
      "\n",
      "-Sticky alerts should be:\n",
      "\n",
      "-Dismissible: The alert appears full width stuck at the top of the window frame and as the content scrolls underneath it. When the user scrolls, the alert dismisses itself."
     ]
    }
   ],
   "source": [
    "for chunk in generate_streaming_text(real_prompt, max_tokens=200):\n",
    "    print(chunk, end=\"\", flush=True)"
   ]
  },
  {
   "cell_type": "code",
   "execution_count": 19,
   "id": "c499f473",
   "metadata": {},
   "outputs": [
    {
     "name": "stdout",
     "output_type": "stream",
     "text": [
      "\n",
      "\n",
      "The most relevant chunks for this user query are:\n",
      "\n",
      "-Header: \"Alert\", \"Placement\", \"Inline\"\n",
      "-Content: \"An inline alert appears embedded within the copy of the site as a block element. This means that when the user scrolls, the alert scrolls as well.\n",
      "-Sticky: \"A sticky alert appears full width stuck at the top of the window frame. That means if the user scrolls, the alert stays at the top of the frame and as the content scrolls underneath it. A sticky alert must always be dismissible. The alert appears above all other UI elements except for toast notifications and modals.\""
     ]
    }
   ],
   "source": [
    "for chunk in generate_streaming_text(real_prompt, model=\"text-babbage-001\", max_tokens=300):\n",
    "    print(chunk, end=\"\", flush=True)"
   ]
  },
  {
   "cell_type": "code",
   "execution_count": 20,
   "id": "9cd9994e",
   "metadata": {},
   "outputs": [
    {
     "name": "stdout",
     "output_type": "stream",
     "text": [
      "\n",
      "\n",
      "The Alert component can display in two different ways: as an inline alert or as a sticky alert. A sticky alert appears full width stuck at the top of the window frame. That means if the user scrolls, the alert stays at the top of the frame and as the content scrolls underneath it. A sticky alert must always be dismissible."
     ]
    }
   ],
   "source": [
    "for chunk in generate_streaming_text(real_prompt, model=\"text-curie-001\", max_tokens=300):\n",
    "    print(chunk, end=\"\", flush=True)"
   ]
  },
  {
   "cell_type": "code",
   "execution_count": 30,
   "id": "4b928a15",
   "metadata": {},
   "outputs": [
    {
     "name": "stdout",
     "output_type": "stream",
     "text": [
      "\n",
      "\n",
      "It depends on the type of alert you are displaying. \n",
      "\n",
      "For an inline alert, it should appear embedded within the copy of the site as a block element. This means that when the user scrolls, the alert scrolls as well.\n",
      "\n",
      "For a sticky alert, it should appear full width stuck at the top of the window frame. That means if the user scrolls, the alert stays at the top of the frame and as the content scrolls underneath it. A sticky alert must always be dismissible. The alert appears above all other UI elements except for toast notifications and modals. It is up to the development team wether or not the sticky alert should push the rest of the content down or not."
     ]
    }
   ],
   "source": [
    "for chunk in generate_streaming_text(real_prompt, model=\"text-davinci-003\", max_tokens=300):\n",
    "    print(chunk, end=\"\", flush=True)"
   ]
  },
  {
   "cell_type": "code",
   "execution_count": 31,
   "id": "caacc2f8",
   "metadata": {},
   "outputs": [
    {
     "name": "stdout",
     "output_type": "stream",
     "text": [
      "\n",
      "\n",
      "It depends on the type of alert you are displaying. \n",
      "\n",
      "For an inline alert, it should appear embedded within the copy of the site as a block element. This means that when the user scrolls, the alert scrolls as well.\n",
      "\n",
      "For a sticky alert, it should appear full width stuck at the top of the window frame. That means if the user scrolls, the alert stays at the top of the frame and as the content scrolls underneath it. A sticky alert must always be dismissible. The alert appears above all other UI elements except for toast notifications and modals. It is up to the development team wether or not the sticky alert should push the rest of the content down or not."
     ]
    }
   ],
   "source": [
    "for chunk in generate_streaming_text(real_prompt, model=\"text-davinci-003\", max_tokens=600):\n",
    "    print(chunk, end=\"\", flush=True)"
   ]
  },
  {
   "cell_type": "code",
   "execution_count": 32,
   "id": "1c9436e1",
   "metadata": {},
   "outputs": [],
   "source": [
    "real_prompt_1 = \"\"\"\n",
    "You are an enthusiastic iTwinUI representative who loves helping users. iTwinUI is a UI library with a React components like `Button`, `Table`, `Header`, `Text`, etc. where all components follow the strict UX guidelines set by iTwinUI. Given the \"Most relevant chunks\" from the iTwinUI documentation website, give an answer in markdown to the \"User query\". You should not use any information outside of \"Most relevant chunks\". If you are not confident about your answer, say \"Sorry, I do not have a confident answer\". NEVER guess an answer or inject your knowledge.\n",
    "\n",
    "\"User query\":\n",
    "Where should I place an Alert component? Like from a UX perspective \n",
    "\n",
    "\"Most relevant chunks\":\n",
    "```json\n",
    "[\n",
    "  {\n",
    "    \"header\": [\"Alert\", \"Placement\"],\n",
    "    \"content\": \"The alert notification can display in two different ways:\"\n",
    "  },\n",
    "  {\n",
    "    \"header\": [\"Alert\", \"Placement\", \"Inline\"],\n",
    "    \"content\": \"An inline alert appears embedded within the copy of the site as a block element. This means that when the user scrolls, the alert scrolls as well.\\n\\nInline alerts can optionally be dismissible. Once the alert is dismissed, the content below it will shift upwards due to the alert no longer consuming space.\"\n",
    "  },\n",
    "  {\n",
    "    \"header\": [\"Alert\", \"Placement\", \"Sticky\"],\n",
    "    \"content\": \"A sticky alert appears full width stuck at the top of the window frame. That means if the user scrolls, the alert stays at the top of the frame and as the content scrolls underneath it. A sticky alert must always be dismissible. The alert appears above all other UI elements except for toast notifications and modals.\\n\\nIt is up to the development team wether or not the sticky alert should push the rest of the content down or not.\"\n",
    "  },\n",
    "]\n",
    "\n",
    "Your answer in markdown (hierarchical bullet points, whenever possible):\n",
    "```\n",
    "\"\"\".strip()"
   ]
  },
  {
   "cell_type": "code",
   "execution_count": 34,
   "id": "fb18b26c",
   "metadata": {},
   "outputs": [
    {
     "name": "stdout",
     "output_type": "stream",
     "text": [
      "\n",
      "The placement of an Alert component depends on the context of the page:\n",
      "\n",
      "* Inline: \n",
      "  * Appears embedded within the copy of the site as a block element\n",
      "  * Optionally be dismissible\n",
      "  * Content below it will shift upwards once the alert is dismissed\n",
      "\n",
      "* Sticky: \n",
      "  * Appears full width stuck at the top of the window frame\n",
      "  * Stays at the top of the frame when the user scrolls\n",
      "  * Must always be dismissible\n",
      "  * Appears above all other UI elements except for toast notifications and modals\n",
      "  * It is up to the development team wether or not the sticky alert should push the rest of the content down or not"
     ]
    }
   ],
   "source": [
    "for chunk in generate_streaming_text(real_prompt_1, model=\"text-davinci-003\", max_tokens=600):\n",
    "    print(chunk, end=\"\", flush=True)"
   ]
  }
 ],
 "metadata": {
  "kernelspec": {
   "display_name": "Python 3 (ipykernel)",
   "language": "python",
   "name": "python3"
  },
  "language_info": {
   "codemirror_mode": {
    "name": "ipython",
    "version": 3
   },
   "file_extension": ".py",
   "mimetype": "text/x-python",
   "name": "python",
   "nbconvert_exporter": "python",
   "pygments_lexer": "ipython3",
   "version": "3.9.16"
  }
 },
 "nbformat": 4,
 "nbformat_minor": 5
}
