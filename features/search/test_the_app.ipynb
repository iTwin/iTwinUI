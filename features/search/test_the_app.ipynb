{
 "cells": [
  {
   "cell_type": "code",
   "execution_count": 1,
   "metadata": {},
   "outputs": [],
   "source": [
    "import requests"
   ]
  },
  {
   "cell_type": "code",
   "execution_count": 4,
   "metadata": {},
   "outputs": [],
   "source": [
    "query = \"How to style Buttons in iTwinUI? Like what are the UI guidelines?\"\n",
    "url = \"http://localhost:8000/search?query=\" + query\n",
    "\n",
    "with requests.get(url, stream=True) as r:\n",
    "    for chunk in r.iter_content(1024):  # or, for line in r.iter_lines():\n",
    "        print(chunk)"
   ]
  },
  {
   "cell_type": "code",
   "execution_count": 6,
   "metadata": {},
   "outputs": [
    {
     "name": "stdout",
     "output_type": "stream",
     "text": [
      "b'some fake data\\n\\n'\n"
     ]
    },
    {
     "ename": "ChunkedEncodingError",
     "evalue": "(\"Connection broken: InvalidChunkLength(got length b'', 0 bytes read)\", InvalidChunkLength(got length b'', 0 bytes read))",
     "output_type": "error",
     "traceback": [
      "\u001b[1;31m---------------------------------------------------------------------------\u001b[0m",
      "\u001b[1;31mInvalidChunkLength\u001b[0m                        Traceback (most recent call last)",
      "File \u001b[1;32mc:\\Users\\kadko\\Documents\\Bentley\\Repos\\iTwinUI\\iTwinUI\\features\\search\\.conda\\lib\\site-packages\\urllib3\\response.py:705\u001b[0m, in \u001b[0;36mHTTPResponse._error_catcher\u001b[1;34m(self)\u001b[0m\n\u001b[0;32m    704\u001b[0m \u001b[39mtry\u001b[39;00m:\n\u001b[1;32m--> 705\u001b[0m     \u001b[39myield\u001b[39;00m\n\u001b[0;32m    707\u001b[0m \u001b[39mexcept\u001b[39;00m SocketTimeout \u001b[39mas\u001b[39;00m e:\n\u001b[0;32m    708\u001b[0m     \u001b[39m# FIXME: Ideally we'd like to include the url in the ReadTimeoutError but\u001b[39;00m\n\u001b[0;32m    709\u001b[0m     \u001b[39m# there is yet no clean way to get at it from this context.\u001b[39;00m\n",
      "File \u001b[1;32mc:\\Users\\kadko\\Documents\\Bentley\\Repos\\iTwinUI\\iTwinUI\\features\\search\\.conda\\lib\\site-packages\\urllib3\\response.py:1072\u001b[0m, in \u001b[0;36mHTTPResponse.read_chunked\u001b[1;34m(self, amt, decode_content)\u001b[0m\n\u001b[0;32m   1071\u001b[0m \u001b[39mwhile\u001b[39;00m \u001b[39mTrue\u001b[39;00m:\n\u001b[1;32m-> 1072\u001b[0m     \u001b[39mself\u001b[39;49m\u001b[39m.\u001b[39;49m_update_chunk_length()\n\u001b[0;32m   1073\u001b[0m     \u001b[39mif\u001b[39;00m \u001b[39mself\u001b[39m\u001b[39m.\u001b[39mchunk_left \u001b[39m==\u001b[39m \u001b[39m0\u001b[39m:\n",
      "File \u001b[1;32mc:\\Users\\kadko\\Documents\\Bentley\\Repos\\iTwinUI\\iTwinUI\\features\\search\\.conda\\lib\\site-packages\\urllib3\\response.py:1007\u001b[0m, in \u001b[0;36mHTTPResponse._update_chunk_length\u001b[1;34m(self)\u001b[0m\n\u001b[0;32m   1006\u001b[0m \u001b[39mself\u001b[39m\u001b[39m.\u001b[39mclose()\n\u001b[1;32m-> 1007\u001b[0m \u001b[39mraise\u001b[39;00m InvalidChunkLength(\u001b[39mself\u001b[39m, line) \u001b[39mfrom\u001b[39;00m \u001b[39mNone\u001b[39;00m\n",
      "\u001b[1;31mInvalidChunkLength\u001b[0m: InvalidChunkLength(got length b'', 0 bytes read)",
      "\nThe above exception was the direct cause of the following exception:\n",
      "\u001b[1;31mProtocolError\u001b[0m                             Traceback (most recent call last)",
      "File \u001b[1;32mc:\\Users\\kadko\\Documents\\Bentley\\Repos\\iTwinUI\\iTwinUI\\features\\search\\.conda\\lib\\site-packages\\requests\\models.py:816\u001b[0m, in \u001b[0;36mResponse.iter_content.<locals>.generate\u001b[1;34m()\u001b[0m\n\u001b[0;32m    815\u001b[0m \u001b[39mtry\u001b[39;00m:\n\u001b[1;32m--> 816\u001b[0m     \u001b[39myield from\u001b[39;00m \u001b[39mself\u001b[39m\u001b[39m.\u001b[39mraw\u001b[39m.\u001b[39mstream(chunk_size, decode_content\u001b[39m=\u001b[39m\u001b[39mTrue\u001b[39;00m)\n\u001b[0;32m    817\u001b[0m \u001b[39mexcept\u001b[39;00m ProtocolError \u001b[39mas\u001b[39;00m e:\n",
      "File \u001b[1;32mc:\\Users\\kadko\\Documents\\Bentley\\Repos\\iTwinUI\\iTwinUI\\features\\search\\.conda\\lib\\site-packages\\urllib3\\response.py:932\u001b[0m, in \u001b[0;36mHTTPResponse.stream\u001b[1;34m(self, amt, decode_content)\u001b[0m\n\u001b[0;32m    931\u001b[0m \u001b[39mif\u001b[39;00m \u001b[39mself\u001b[39m\u001b[39m.\u001b[39mchunked \u001b[39mand\u001b[39;00m \u001b[39mself\u001b[39m\u001b[39m.\u001b[39msupports_chunked_reads():\n\u001b[1;32m--> 932\u001b[0m     \u001b[39myield from\u001b[39;00m \u001b[39mself\u001b[39m\u001b[39m.\u001b[39mread_chunked(amt, decode_content\u001b[39m=\u001b[39mdecode_content)\n\u001b[0;32m    933\u001b[0m \u001b[39melse\u001b[39;00m:\n",
      "File \u001b[1;32mc:\\Users\\kadko\\Documents\\Bentley\\Repos\\iTwinUI\\iTwinUI\\features\\search\\.conda\\lib\\site-packages\\urllib3\\response.py:1101\u001b[0m, in \u001b[0;36mHTTPResponse.read_chunked\u001b[1;34m(self, amt, decode_content)\u001b[0m\n\u001b[0;32m   1100\u001b[0m \u001b[39mif\u001b[39;00m \u001b[39mself\u001b[39m\u001b[39m.\u001b[39m_original_response:\n\u001b[1;32m-> 1101\u001b[0m     \u001b[39mself\u001b[39m\u001b[39m.\u001b[39m_original_response\u001b[39m.\u001b[39mclose()\n",
      "File \u001b[1;32mc:\\Users\\kadko\\Documents\\Bentley\\Repos\\iTwinUI\\iTwinUI\\features\\search\\.conda\\lib\\contextlib.py:137\u001b[0m, in \u001b[0;36m_GeneratorContextManager.__exit__\u001b[1;34m(self, typ, value, traceback)\u001b[0m\n\u001b[0;32m    136\u001b[0m \u001b[39mtry\u001b[39;00m:\n\u001b[1;32m--> 137\u001b[0m     \u001b[39mself\u001b[39;49m\u001b[39m.\u001b[39;49mgen\u001b[39m.\u001b[39;49mthrow(typ, value, traceback)\n\u001b[0;32m    138\u001b[0m \u001b[39mexcept\u001b[39;00m \u001b[39mStopIteration\u001b[39;00m \u001b[39mas\u001b[39;00m exc:\n\u001b[0;32m    139\u001b[0m     \u001b[39m# Suppress StopIteration *unless* it's the same exception that\u001b[39;00m\n\u001b[0;32m    140\u001b[0m     \u001b[39m# was passed to throw().  This prevents a StopIteration\u001b[39;00m\n\u001b[0;32m    141\u001b[0m     \u001b[39m# raised inside the \"with\" statement from being suppressed.\u001b[39;00m\n",
      "File \u001b[1;32mc:\\Users\\kadko\\Documents\\Bentley\\Repos\\iTwinUI\\iTwinUI\\features\\search\\.conda\\lib\\site-packages\\urllib3\\response.py:722\u001b[0m, in \u001b[0;36mHTTPResponse._error_catcher\u001b[1;34m(self)\u001b[0m\n\u001b[0;32m    720\u001b[0m \u001b[39mexcept\u001b[39;00m (HTTPException, \u001b[39mOSError\u001b[39;00m) \u001b[39mas\u001b[39;00m e:\n\u001b[0;32m    721\u001b[0m     \u001b[39m# This includes IncompleteRead.\u001b[39;00m\n\u001b[1;32m--> 722\u001b[0m     \u001b[39mraise\u001b[39;00m ProtocolError(\u001b[39mf\u001b[39m\u001b[39m\"\u001b[39m\u001b[39mConnection broken: \u001b[39m\u001b[39m{\u001b[39;00me\u001b[39m!r}\u001b[39;00m\u001b[39m\"\u001b[39m, e) \u001b[39mfrom\u001b[39;00m \u001b[39me\u001b[39;00m\n\u001b[0;32m    724\u001b[0m \u001b[39m# If no exception is thrown, we should avoid cleaning up\u001b[39;00m\n\u001b[0;32m    725\u001b[0m \u001b[39m# unnecessarily.\u001b[39;00m\n",
      "\u001b[1;31mProtocolError\u001b[0m: (\"Connection broken: InvalidChunkLength(got length b'', 0 bytes read)\", InvalidChunkLength(got length b'', 0 bytes read))",
      "\nDuring handling of the above exception, another exception occurred:\n",
      "\u001b[1;31mChunkedEncodingError\u001b[0m                      Traceback (most recent call last)",
      "Cell \u001b[1;32mIn[6], line 6\u001b[0m\n\u001b[0;32m      3\u001b[0m url \u001b[39m=\u001b[39m \u001b[39m\"\u001b[39m\u001b[39mhttp://localhost:8000/stream\u001b[39m\u001b[39m\"\u001b[39m\n\u001b[0;32m      5\u001b[0m \u001b[39mwith\u001b[39;00m requests\u001b[39m.\u001b[39mget(url, stream\u001b[39m=\u001b[39m\u001b[39mTrue\u001b[39;00m) \u001b[39mas\u001b[39;00m r:\n\u001b[1;32m----> 6\u001b[0m     \u001b[39mfor\u001b[39;00m chunk \u001b[39min\u001b[39;00m r\u001b[39m.\u001b[39miter_content(\u001b[39m1024\u001b[39m):  \u001b[39m# or, for line in r.iter_lines():\u001b[39;00m\n\u001b[0;32m      7\u001b[0m         \u001b[39mprint\u001b[39m(chunk)\n",
      "File \u001b[1;32mc:\\Users\\kadko\\Documents\\Bentley\\Repos\\iTwinUI\\iTwinUI\\features\\search\\.conda\\lib\\site-packages\\requests\\models.py:818\u001b[0m, in \u001b[0;36mResponse.iter_content.<locals>.generate\u001b[1;34m()\u001b[0m\n\u001b[0;32m    816\u001b[0m     \u001b[39myield from\u001b[39;00m \u001b[39mself\u001b[39m\u001b[39m.\u001b[39mraw\u001b[39m.\u001b[39mstream(chunk_size, decode_content\u001b[39m=\u001b[39m\u001b[39mTrue\u001b[39;00m)\n\u001b[0;32m    817\u001b[0m \u001b[39mexcept\u001b[39;00m ProtocolError \u001b[39mas\u001b[39;00m e:\n\u001b[1;32m--> 818\u001b[0m     \u001b[39mraise\u001b[39;00m ChunkedEncodingError(e)\n\u001b[0;32m    819\u001b[0m \u001b[39mexcept\u001b[39;00m DecodeError \u001b[39mas\u001b[39;00m e:\n\u001b[0;32m    820\u001b[0m     \u001b[39mraise\u001b[39;00m ContentDecodingError(e)\n",
      "\u001b[1;31mChunkedEncodingError\u001b[0m: (\"Connection broken: InvalidChunkLength(got length b'', 0 bytes read)\", InvalidChunkLength(got length b'', 0 bytes read))"
     ]
    }
   ],
   "source": [
    "import requests\n",
    "\n",
    "url = \"http://localhost:8000/stream\"\n",
    "\n",
    "with requests.get(url, stream=True) as r:\n",
    "    for chunk in r.iter_content(1024):  # or, for line in r.iter_lines():\n",
    "        print(chunk)"
   ]
  },
  {
   "cell_type": "code",
   "execution_count": 8,
   "metadata": {},
   "outputs": [
    {
     "name": "stdout",
     "output_type": "stream",
     "text": [
      "b'some fake data\\n\\n'\n",
      "b'some fake data\\n\\n'\n",
      "b'some fake data\\n\\n'\n",
      "b'some fake data\\n\\n'\n",
      "b'some fake data\\n\\n'\n",
      "b'some fake data\\n\\n'\n",
      "b'some fake data\\n\\n'\n",
      "b'some fake data\\n\\n'\n",
      "b'some fake data\\n\\n'\n",
      "b'some fake data\\n\\n'\n"
     ]
    }
   ],
   "source": [
    "from requests.models import ChunkedEncodingError\n",
    "\n",
    "\n",
    "response = requests.get(url, stream=True)\n",
    "try:\n",
    "    for data in response.iter_content(chunk_size=1024):\n",
    "        print(data)\n",
    "except ChunkedEncodingError as ex:\n",
    "    print(f\"Invalid chunk encoding {str(ex)}\")"
   ]
  },
  {
   "cell_type": "code",
   "execution_count": 16,
   "metadata": {},
   "outputs": [
    {
     "name": "stdout",
     "output_type": "stream",
     "text": [
      "b'\"\"'\n"
     ]
    }
   ],
   "source": [
    "from requests.models import ChunkedEncodingError\n",
    "\n",
    "query = \"How to style Buttons in iTwinUI? Like what are the UI guidelines?\"\n",
    "url = \"http://localhost:8000/search?query=\" + query\n",
    "\n",
    "response = requests.get(url, stream=True)\n",
    "try:\n",
    "    for data in response.iter_content(chunk_size=1024):\n",
    "        print(data)\n",
    "except ChunkedEncodingError as ex:\n",
    "    print(f\"Invalid chunk encoding {str(ex)}\")"
   ]
  },
  {
   "cell_type": "code",
   "execution_count": 26,
   "metadata": {},
   "outputs": [
    {
     "name": "stdout",
     "output_type": "stream",
     "text": [
      "\n",
      "\n",
      "- Buttons in iTwinUI should follow the UX guidelines set by iTwinUI. \n",
      "- There are several style types available for buttons: \n",
      "  - Default button \n",
      "  - High visibility button \n",
      "  - Call-to-action button \n",
      "  - Borderless button \n",
      "  - Icon button \n",
      "- The font used for body text is _Noto Sans_ (`--iui-font-sans`) and for monospace text is _Noto Sans Mono_ (`--iui-font-mono`). \n",
      "- The font scale increases in size from 0 to 5, with `--iui-font-size-1` being the base font size for body text. \n",
      "- There are four font weights available: light, normal, semibold, and bold. \n",
      "- iTwinUI offers a few shadows that increase in elevation from 0 to 5. \n",
      "- Most iTwinUI components use `var(--iui-border-radius-1)`. For pill-shaped components, iTwinUI also offers `var(--iui-border-radius-round)`. \n",
      "- Icon button gives the icon the correct styling as well as adds some clickable padding within the button, ensuring icons meet the necessary touch target size. \n",
      "- For more information, please refer to the [Button](/docs/button) page in the iTwinUI documentation.\n"
     ]
    }
   ],
   "source": [
    "from requests.models import ChunkedEncodingError\n",
    "\n",
    "query = \"How to style Buttons in iTwinUI? Like what are the UI guidelines?\"\n",
    "url = \"http://localhost:8000/search?query=\" + query\n",
    "\n",
    "response = requests.get(url, stream=True)\n",
    "# Print the response\n",
    "print(response.json())"
   ]
  },
  {
   "cell_type": "code",
   "execution_count": 25,
   "metadata": {},
   "outputs": [
    {
     "data": {
      "text/plain": [
       "'\\n\\n- Buttons in iT'"
      ]
     },
     "execution_count": 25,
     "metadata": {},
     "output_type": "execute_result"
    }
   ],
   "source": [
    "response.json()"
   ]
  }
 ],
 "metadata": {
  "kernelspec": {
   "display_name": "Python 3",
   "language": "python",
   "name": "python3"
  },
  "language_info": {
   "codemirror_mode": {
    "name": "ipython",
    "version": 3
   },
   "file_extension": ".py",
   "mimetype": "text/x-python",
   "name": "python",
   "nbconvert_exporter": "python",
   "pygments_lexer": "ipython3",
   "version": "3.9.16"
  },
  "orig_nbformat": 4
 },
 "nbformat": 4,
 "nbformat_minor": 2
}
